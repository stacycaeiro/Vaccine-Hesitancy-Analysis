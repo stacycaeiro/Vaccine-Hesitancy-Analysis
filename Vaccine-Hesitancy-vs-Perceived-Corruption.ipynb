{
 "cells": [
  {
   "cell_type": "code",
   "execution_count": 101,
   "id": "cecc2726",
   "metadata": {
    "ExecuteTime": {
     "end_time": "2023-09-24T20:42:25.643553Z",
     "start_time": "2023-09-24T20:42:25.626805Z"
    }
   },
   "outputs": [],
   "source": [
    "import pandas as pd\n",
    "import matplotlib.pyplot as plt\n",
    "from scipy.stats import pearsonr\n",
    "\n",
    "%matplotlib inline"
   ]
  },
  {
   "cell_type": "markdown",
   "id": "e1dfb46d",
   "metadata": {},
   "source": [
    "#  Load, Clean, and Merge Datasets"
   ]
  },
  {
   "cell_type": "code",
   "execution_count": 102,
   "id": "a9f40f8f",
   "metadata": {
    "ExecuteTime": {
     "end_time": "2023-09-24T20:42:27.834260Z",
     "start_time": "2023-09-24T20:42:27.809342Z"
    }
   },
   "outputs": [],
   "source": [
    "#load two csv files with data on vaccine safety perception and perceived corruption\n",
    "#only load columns with country name and 2015 because 2015 is only year that contains data \n",
    "#from both datasets\n",
    "vaccines = pd.read_csv(\"vccin_sfty_dag.csv\", usecols=['country','2015'])\n",
    "corruption = pd.read_csv(\"corruption_perception_index_cpi.csv\", usecols=['country','2015'])"
   ]
  },
  {
   "cell_type": "code",
   "execution_count": 103,
   "id": "926e8766",
   "metadata": {
    "ExecuteTime": {
     "end_time": "2023-09-24T20:42:30.332903Z",
     "start_time": "2023-09-24T20:42:30.319067Z"
    },
    "scrolled": true
   },
   "outputs": [
    {
     "data": {
      "text/html": [
       "<div>\n",
       "<style scoped>\n",
       "    .dataframe tbody tr th:only-of-type {\n",
       "        vertical-align: middle;\n",
       "    }\n",
       "\n",
       "    .dataframe tbody tr th {\n",
       "        vertical-align: top;\n",
       "    }\n",
       "\n",
       "    .dataframe thead th {\n",
       "        text-align: right;\n",
       "    }\n",
       "</style>\n",
       "<table border=\"1\" class=\"dataframe\">\n",
       "  <thead>\n",
       "    <tr style=\"text-align: right;\">\n",
       "      <th></th>\n",
       "      <th>country</th>\n",
       "      <th>2015</th>\n",
       "    </tr>\n",
       "  </thead>\n",
       "  <tbody>\n",
       "    <tr>\n",
       "      <th>0</th>\n",
       "      <td>Afghanistan</td>\n",
       "      <td>8.5</td>\n",
       "    </tr>\n",
       "    <tr>\n",
       "      <th>1</th>\n",
       "      <td>Albania</td>\n",
       "      <td>NaN</td>\n",
       "    </tr>\n",
       "    <tr>\n",
       "      <th>2</th>\n",
       "      <td>UAE</td>\n",
       "      <td>NaN</td>\n",
       "    </tr>\n",
       "    <tr>\n",
       "      <th>3</th>\n",
       "      <td>Argentina</td>\n",
       "      <td>1.2</td>\n",
       "    </tr>\n",
       "    <tr>\n",
       "      <th>4</th>\n",
       "      <td>Armenia</td>\n",
       "      <td>21.6</td>\n",
       "    </tr>\n",
       "  </tbody>\n",
       "</table>\n",
       "</div>"
      ],
      "text/plain": [
       "       country  2015\n",
       "0  Afghanistan   8.5\n",
       "1      Albania   NaN\n",
       "2          UAE   NaN\n",
       "3    Argentina   1.2\n",
       "4      Armenia  21.6"
      ]
     },
     "execution_count": 103,
     "metadata": {},
     "output_type": "execute_result"
    }
   ],
   "source": [
    "#higher the proportion, the larger the vaccine hesistancy\n",
    "vaccines.head()"
   ]
  },
  {
   "cell_type": "code",
   "execution_count": 104,
   "id": "760605ed",
   "metadata": {
    "ExecuteTime": {
     "end_time": "2023-09-24T20:42:33.051488Z",
     "start_time": "2023-09-24T20:42:33.036265Z"
    }
   },
   "outputs": [
    {
     "data": {
      "text/html": [
       "<div>\n",
       "<style scoped>\n",
       "    .dataframe tbody tr th:only-of-type {\n",
       "        vertical-align: middle;\n",
       "    }\n",
       "\n",
       "    .dataframe tbody tr th {\n",
       "        vertical-align: top;\n",
       "    }\n",
       "\n",
       "    .dataframe thead th {\n",
       "        text-align: right;\n",
       "    }\n",
       "</style>\n",
       "<table border=\"1\" class=\"dataframe\">\n",
       "  <thead>\n",
       "    <tr style=\"text-align: right;\">\n",
       "      <th></th>\n",
       "      <th>country</th>\n",
       "      <th>2015</th>\n",
       "    </tr>\n",
       "  </thead>\n",
       "  <tbody>\n",
       "    <tr>\n",
       "      <th>0</th>\n",
       "      <td>Afghanistan</td>\n",
       "      <td>11.0</td>\n",
       "    </tr>\n",
       "    <tr>\n",
       "      <th>1</th>\n",
       "      <td>Angola</td>\n",
       "      <td>15.0</td>\n",
       "    </tr>\n",
       "    <tr>\n",
       "      <th>2</th>\n",
       "      <td>Albania</td>\n",
       "      <td>36.0</td>\n",
       "    </tr>\n",
       "    <tr>\n",
       "      <th>3</th>\n",
       "      <td>UAE</td>\n",
       "      <td>70.0</td>\n",
       "    </tr>\n",
       "    <tr>\n",
       "      <th>4</th>\n",
       "      <td>Argentina</td>\n",
       "      <td>32.0</td>\n",
       "    </tr>\n",
       "  </tbody>\n",
       "</table>\n",
       "</div>"
      ],
      "text/plain": [
       "       country  2015\n",
       "0  Afghanistan  11.0\n",
       "1       Angola  15.0\n",
       "2      Albania  36.0\n",
       "3          UAE  70.0\n",
       "4    Argentina  32.0"
      ]
     },
     "execution_count": 104,
     "metadata": {},
     "output_type": "execute_result"
    }
   ],
   "source": [
    "#lower value means more perceived corruption\n",
    "corruption.head()"
   ]
  },
  {
   "cell_type": "code",
   "execution_count": 105,
   "id": "55044632",
   "metadata": {
    "ExecuteTime": {
     "end_time": "2023-09-24T20:42:35.233347Z",
     "start_time": "2023-09-24T20:42:35.224168Z"
    }
   },
   "outputs": [],
   "source": [
    "#rename columns to identify data and prepare to join dfs\n",
    "vaccines.rename(columns = {\"2015\": \"vaccine_unsafe\"}, inplace = True)\n",
    "corruption.rename(columns = {\"2015\":\"perceived_corruption\"}, inplace = True)"
   ]
  },
  {
   "cell_type": "code",
   "execution_count": 106,
   "id": "954e1bde",
   "metadata": {
    "ExecuteTime": {
     "end_time": "2023-09-24T20:42:36.257009Z",
     "start_time": "2023-09-24T20:42:36.237814Z"
    }
   },
   "outputs": [],
   "source": [
    "#new dataframe merging vaccine and corruption dataframes\n",
    "data_df = vaccines.merge(corruption, on = 'country')"
   ]
  },
  {
   "cell_type": "code",
   "execution_count": 107,
   "id": "a8ed72b2",
   "metadata": {
    "ExecuteTime": {
     "end_time": "2023-09-24T20:42:37.155202Z",
     "start_time": "2023-09-24T20:42:37.144997Z"
    }
   },
   "outputs": [],
   "source": [
    "#get rid of rows with NaN values because they are unfit for analysis\n",
    "data_df.dropna(inplace = True)"
   ]
  },
  {
   "cell_type": "code",
   "execution_count": 108,
   "id": "6e96bc5f",
   "metadata": {
    "ExecuteTime": {
     "end_time": "2023-09-24T20:42:38.381583Z",
     "start_time": "2023-09-24T20:42:38.370946Z"
    }
   },
   "outputs": [],
   "source": [
    "#use additional df with region names to do further sub-group analyses on our data\n",
    "regions = pd.read_csv('continents2.csv', usecols = ['name', 'region', 'sub-region'])"
   ]
  },
  {
   "cell_type": "code",
   "execution_count": 109,
   "id": "456f5174",
   "metadata": {
    "ExecuteTime": {
     "end_time": "2023-09-24T20:42:40.245757Z",
     "start_time": "2023-09-24T20:42:40.240953Z"
    }
   },
   "outputs": [],
   "source": [
    "#rename column to use .merge on old df\n",
    "regions.rename(columns = {'name':'country'}, inplace = True)"
   ]
  },
  {
   "cell_type": "code",
   "execution_count": 110,
   "id": "cb9c16ac",
   "metadata": {
    "ExecuteTime": {
     "end_time": "2023-09-24T20:42:41.255821Z",
     "start_time": "2023-09-24T20:42:41.242506Z"
    }
   },
   "outputs": [
    {
     "data": {
      "text/html": [
       "<div>\n",
       "<style scoped>\n",
       "    .dataframe tbody tr th:only-of-type {\n",
       "        vertical-align: middle;\n",
       "    }\n",
       "\n",
       "    .dataframe tbody tr th {\n",
       "        vertical-align: top;\n",
       "    }\n",
       "\n",
       "    .dataframe thead th {\n",
       "        text-align: right;\n",
       "    }\n",
       "</style>\n",
       "<table border=\"1\" class=\"dataframe\">\n",
       "  <thead>\n",
       "    <tr style=\"text-align: right;\">\n",
       "      <th></th>\n",
       "      <th>country</th>\n",
       "      <th>region</th>\n",
       "      <th>sub-region</th>\n",
       "    </tr>\n",
       "  </thead>\n",
       "  <tbody>\n",
       "    <tr>\n",
       "      <th>0</th>\n",
       "      <td>Afghanistan</td>\n",
       "      <td>Asia</td>\n",
       "      <td>Southern Asia</td>\n",
       "    </tr>\n",
       "    <tr>\n",
       "      <th>1</th>\n",
       "      <td>Åland Islands</td>\n",
       "      <td>Europe</td>\n",
       "      <td>Northern Europe</td>\n",
       "    </tr>\n",
       "    <tr>\n",
       "      <th>2</th>\n",
       "      <td>Albania</td>\n",
       "      <td>Europe</td>\n",
       "      <td>Southern Europe</td>\n",
       "    </tr>\n",
       "    <tr>\n",
       "      <th>3</th>\n",
       "      <td>Algeria</td>\n",
       "      <td>Africa</td>\n",
       "      <td>Northern Africa</td>\n",
       "    </tr>\n",
       "    <tr>\n",
       "      <th>4</th>\n",
       "      <td>American Samoa</td>\n",
       "      <td>Oceania</td>\n",
       "      <td>Polynesia</td>\n",
       "    </tr>\n",
       "  </tbody>\n",
       "</table>\n",
       "</div>"
      ],
      "text/plain": [
       "          country   region       sub-region\n",
       "0     Afghanistan     Asia    Southern Asia\n",
       "1   Åland Islands   Europe  Northern Europe\n",
       "2         Albania   Europe  Southern Europe\n",
       "3         Algeria   Africa  Northern Africa\n",
       "4  American Samoa  Oceania        Polynesia"
      ]
     },
     "execution_count": 110,
     "metadata": {},
     "output_type": "execute_result"
    }
   ],
   "source": [
    "regions.head()"
   ]
  },
  {
   "cell_type": "code",
   "execution_count": 111,
   "id": "7f4b5606",
   "metadata": {
    "ExecuteTime": {
     "end_time": "2023-09-24T20:42:43.514833Z",
     "start_time": "2023-09-24T20:42:43.506369Z"
    }
   },
   "outputs": [],
   "source": [
    "#final df with vaccine, corruption, and region data\n",
    "df = data_df.merge(regions, on='country')"
   ]
  },
  {
   "cell_type": "code",
   "execution_count": 112,
   "id": "62380917",
   "metadata": {
    "ExecuteTime": {
     "end_time": "2023-09-24T20:42:44.518297Z",
     "start_time": "2023-09-24T20:42:44.502116Z"
    }
   },
   "outputs": [
    {
     "data": {
      "text/html": [
       "<div>\n",
       "<style scoped>\n",
       "    .dataframe tbody tr th:only-of-type {\n",
       "        vertical-align: middle;\n",
       "    }\n",
       "\n",
       "    .dataframe tbody tr th {\n",
       "        vertical-align: top;\n",
       "    }\n",
       "\n",
       "    .dataframe thead th {\n",
       "        text-align: right;\n",
       "    }\n",
       "</style>\n",
       "<table border=\"1\" class=\"dataframe\">\n",
       "  <thead>\n",
       "    <tr style=\"text-align: right;\">\n",
       "      <th></th>\n",
       "      <th>country</th>\n",
       "      <th>vaccine_unsafe</th>\n",
       "      <th>perceived_corruption</th>\n",
       "      <th>region</th>\n",
       "      <th>sub-region</th>\n",
       "    </tr>\n",
       "  </thead>\n",
       "  <tbody>\n",
       "    <tr>\n",
       "      <th>0</th>\n",
       "      <td>Afghanistan</td>\n",
       "      <td>8.5</td>\n",
       "      <td>11.0</td>\n",
       "      <td>Asia</td>\n",
       "      <td>Southern Asia</td>\n",
       "    </tr>\n",
       "    <tr>\n",
       "      <th>1</th>\n",
       "      <td>Argentina</td>\n",
       "      <td>1.2</td>\n",
       "      <td>32.0</td>\n",
       "      <td>Americas</td>\n",
       "      <td>Latin America and the Caribbean</td>\n",
       "    </tr>\n",
       "    <tr>\n",
       "      <th>2</th>\n",
       "      <td>Armenia</td>\n",
       "      <td>21.6</td>\n",
       "      <td>35.0</td>\n",
       "      <td>Asia</td>\n",
       "      <td>Western Asia</td>\n",
       "    </tr>\n",
       "    <tr>\n",
       "      <th>3</th>\n",
       "      <td>Australia</td>\n",
       "      <td>5.4</td>\n",
       "      <td>79.0</td>\n",
       "      <td>Oceania</td>\n",
       "      <td>Australia and New Zealand</td>\n",
       "    </tr>\n",
       "    <tr>\n",
       "      <th>4</th>\n",
       "      <td>Austria</td>\n",
       "      <td>14.6</td>\n",
       "      <td>76.0</td>\n",
       "      <td>Europe</td>\n",
       "      <td>Western Europe</td>\n",
       "    </tr>\n",
       "  </tbody>\n",
       "</table>\n",
       "</div>"
      ],
      "text/plain": [
       "       country  vaccine_unsafe  perceived_corruption    region  \\\n",
       "0  Afghanistan             8.5                  11.0      Asia   \n",
       "1    Argentina             1.2                  32.0  Americas   \n",
       "2      Armenia            21.6                  35.0      Asia   \n",
       "3    Australia             5.4                  79.0   Oceania   \n",
       "4      Austria            14.6                  76.0    Europe   \n",
       "\n",
       "                        sub-region  \n",
       "0                    Southern Asia  \n",
       "1  Latin America and the Caribbean  \n",
       "2                     Western Asia  \n",
       "3        Australia and New Zealand  \n",
       "4                   Western Europe  "
      ]
     },
     "execution_count": 112,
     "metadata": {},
     "output_type": "execute_result"
    }
   ],
   "source": [
    "df.head()"
   ]
  },
  {
   "cell_type": "markdown",
   "id": "052bec31",
   "metadata": {
    "heading_collapsed": true
   },
   "source": [
    "# Statistical Analysis - Worldwide"
   ]
  },
  {
   "cell_type": "markdown",
   "id": "6ad276a6",
   "metadata": {
    "hidden": true
   },
   "source": [
    "## Scatterplot"
   ]
  },
  {
   "cell_type": "code",
   "execution_count": 113,
   "id": "80e88f45",
   "metadata": {
    "ExecuteTime": {
     "end_time": "2023-09-24T20:42:49.599017Z",
     "start_time": "2023-09-24T20:42:49.397091Z"
    },
    "hidden": true
   },
   "outputs": [
    {
     "data": {
      "text/plain": [
       "<matplotlib.legend.Legend at 0x7fe6d16936a0>"
      ]
     },
     "execution_count": 113,
     "metadata": {},
     "output_type": "execute_result"
    },
    {
     "data": {
      "image/png": "[encoded data removed]",
      "text/plain": [
       "<Figure size 432x288 with 1 Axes>"
      ]
     },
     "metadata": {
      "needs_background": "light"
     },
     "output_type": "display_data"
    }
   ],
   "source": [
    "colors = df.region.map({'Africa': 'gold', \n",
    "                        'Europe': 'skyblue', \n",
    "                        'Americas': 'palegreen', \n",
    "                        'Asia': 'coral', \n",
    "                        'Oceania': 'purple'})\n",
    "\n",
    "\n",
    "data = plt.scatter(data = df, x= 'vaccine_unsafe', \n",
    "                      y= 'perceived_corruption', c = colors)\n",
    "plt.title(\"Vaccine Hesistancy vs. Perceived Corruption by Region\")\n",
    "plt.xlabel(\"Proportion of Vaccine Hesistancy\")\n",
    "plt.ylabel(\"Proportion of Perceived Corruption\")\n",
    "\n",
    "#create legend\n",
    "#code credit for legend: \n",
    "#https://stackoverflow.com/questions/31303912/matplotlib-pyplot-scatterplot-legend-from-color-dictionary\n",
    "\n",
    "#redefine dictionary to use for legend values\n",
    "color_legend = {'Africa': 'gold', \n",
    "                        'Europe': 'skyblue', \n",
    "                        'Americas': 'palegreen', \n",
    "                        'Asia': 'coral', \n",
    "                        'Oceania': 'purple'}\n",
    "\n",
    "#create fake lines to use in .legend() function\n",
    "markers = [plt.Line2D([0,0], [0,0], color=color, marker = \"o\", \n",
    "                      linestyle = \"\") for color in color_legend.values()]\n",
    "plt.legend(markers, color_legend.keys(), numpoints = 1)"
   ]
  },
  {
   "cell_type": "markdown",
   "id": "48324918",
   "metadata": {
    "hidden": true
   },
   "source": [
    "## Correlations"
   ]
  },
  {
   "cell_type": "code",
   "execution_count": 114,
   "id": "0466e450",
   "metadata": {
    "ExecuteTime": {
     "end_time": "2023-09-24T20:42:59.011119Z",
     "start_time": "2023-09-24T20:42:58.994865Z"
    },
    "hidden": true
   },
   "outputs": [
    {
     "data": {
      "text/plain": [
       "(0.038298956557929587, 0.7714119937673969)"
      ]
     },
     "execution_count": 114,
     "metadata": {},
     "output_type": "execute_result"
    }
   ],
   "source": [
    "pearsonr(df[\"vaccine_unsafe\"], df[\"perceived_corruption\"])"
   ]
  },
  {
   "cell_type": "markdown",
   "id": "d9ed7aa0",
   "metadata": {
    "hidden": true
   },
   "source": [
    "The correlation coefficient is 0.0383, suggesting nearly no relationship between the two variables. \n",
    "The p-value is 0.77, which is less than 0.05, therefore, these results are not statistically significant"
   ]
  },
  {
   "cell_type": "markdown",
   "id": "e35c88ca",
   "metadata": {},
   "source": [
    "# Statistical Analysis - Grouped By Sub-Region"
   ]
  },
  {
   "cell_type": "code",
   "execution_count": 115,
   "id": "18ab2176",
   "metadata": {
    "ExecuteTime": {
     "end_time": "2023-09-24T20:43:02.582271Z",
     "start_time": "2023-09-24T20:43:02.572147Z"
    }
   },
   "outputs": [],
   "source": [
    "#function to calculate correlation and p-value for each sub-region, output as\n",
    "#dataframe\n",
    "def calculate_corr(dataframe):\n",
    "    \n",
    "    #store each corr in a dict entry to later convert into df to display results\n",
    "    corr_dict = {}\n",
    "    \n",
    "    #loop through each subregion in list of all unique subregions in dataframe\n",
    "    for subregion in dataframe['sub-region'].unique():\n",
    "        #create a dataframe for specific subregion\n",
    "        data = dataframe[dataframe['sub-region'] == subregion]\n",
    "        \n",
    "        #exclude subregions with insufficient data amount\n",
    "        if len(data) > 1:\n",
    "        #calculate correlation and p-value\n",
    "            corr = pearsonr(data[\"vaccine_unsafe\"], data[\"perceived_corruption\"])\n",
    "        \n",
    "        #add corr to dictionary\n",
    "        corr_dict[subregion] = [corr[0], corr[1]]\n",
    " \n",
    "    \n",
    "    #convert dict to df to display results neatly\n",
    "    corr_df = pd.DataFrame.from_dict(corr_dict)\n",
    "    \n",
    "    #rename rows for clarity\n",
    "    corr_df.index = [\"Correlation Coefficient\", \"p-Value\"]\n",
    "    \n",
    "    return corr_df"
   ]
  },
  {
   "cell_type": "code",
   "execution_count": 117,
   "id": "a0b72535",
   "metadata": {
    "ExecuteTime": {
     "end_time": "2023-09-24T20:43:37.484130Z",
     "start_time": "2023-09-24T20:43:37.446821Z"
    },
    "scrolled": false
   },
   "outputs": [
    {
     "data": {
      "text/html": [
       "<div>\n",
       "<style scoped>\n",
       "    .dataframe tbody tr th:only-of-type {\n",
       "        vertical-align: middle;\n",
       "    }\n",
       "\n",
       "    .dataframe tbody tr th {\n",
       "        vertical-align: top;\n",
       "    }\n",
       "\n",
       "    .dataframe thead th {\n",
       "        text-align: right;\n",
       "    }\n",
       "</style>\n",
       "<table border=\"1\" class=\"dataframe\">\n",
       "  <thead>\n",
       "    <tr style=\"text-align: right;\">\n",
       "      <th></th>\n",
       "      <th>Southern Asia</th>\n",
       "      <th>Latin America and the Caribbean</th>\n",
       "      <th>Western Asia</th>\n",
       "      <th>Australia and New Zealand</th>\n",
       "      <th>Western Europe</th>\n",
       "      <th>Eastern Europe</th>\n",
       "      <th>Northern America</th>\n",
       "      <th>Eastern Asia</th>\n",
       "      <th>Northern Europe</th>\n",
       "      <th>Northern Africa</th>\n",
       "      <th>Southern Europe</th>\n",
       "      <th>Sub-Saharan Africa</th>\n",
       "      <th>South-eastern Asia</th>\n",
       "      <th>Melanesia</th>\n",
       "    </tr>\n",
       "  </thead>\n",
       "  <tbody>\n",
       "    <tr>\n",
       "      <th>Correlation Coefficient</th>\n",
       "      <td>0.063199</td>\n",
       "      <td>0.03104</td>\n",
       "      <td>-0.243147</td>\n",
       "      <td>-0.243147</td>\n",
       "      <td>-0.865591</td>\n",
       "      <td>-0.842470</td>\n",
       "      <td>-0.842470</td>\n",
       "      <td>0.157242</td>\n",
       "      <td>-0.898846</td>\n",
       "      <td>0.923396</td>\n",
       "      <td>-0.579171</td>\n",
       "      <td>0.20881</td>\n",
       "      <td>-0.821939</td>\n",
       "      <td>-0.821939</td>\n",
       "    </tr>\n",
       "    <tr>\n",
       "      <th>p-Value</th>\n",
       "      <td>0.919587</td>\n",
       "      <td>0.94733</td>\n",
       "      <td>0.599313</td>\n",
       "      <td>0.599313</td>\n",
       "      <td>0.057946</td>\n",
       "      <td>0.035269</td>\n",
       "      <td>0.035269</td>\n",
       "      <td>0.842758</td>\n",
       "      <td>0.014831</td>\n",
       "      <td>0.250803</td>\n",
       "      <td>0.228382</td>\n",
       "      <td>0.79119</td>\n",
       "      <td>0.178061</td>\n",
       "      <td>0.178061</td>\n",
       "    </tr>\n",
       "  </tbody>\n",
       "</table>\n",
       "</div>"
      ],
      "text/plain": [
       "                         Southern Asia  Latin America and the Caribbean  \\\n",
       "Correlation Coefficient       0.063199                          0.03104   \n",
       "p-Value                       0.919587                          0.94733   \n",
       "\n",
       "                         Western Asia  Australia and New Zealand  \\\n",
       "Correlation Coefficient     -0.243147                  -0.243147   \n",
       "p-Value                      0.599313                   0.599313   \n",
       "\n",
       "                         Western Europe  Eastern Europe  Northern America  \\\n",
       "Correlation Coefficient       -0.865591       -0.842470         -0.842470   \n",
       "p-Value                        0.057946        0.035269          0.035269   \n",
       "\n",
       "                         Eastern Asia  Northern Europe  Northern Africa  \\\n",
       "Correlation Coefficient      0.157242        -0.898846         0.923396   \n",
       "p-Value                      0.842758         0.014831         0.250803   \n",
       "\n",
       "                         Southern Europe  Sub-Saharan Africa  \\\n",
       "Correlation Coefficient        -0.579171             0.20881   \n",
       "p-Value                         0.228382             0.79119   \n",
       "\n",
       "                         South-eastern Asia  Melanesia  \n",
       "Correlation Coefficient           -0.821939  -0.821939  \n",
       "p-Value                            0.178061   0.178061  "
      ]
     },
     "execution_count": 117,
     "metadata": {},
     "output_type": "execute_result"
    }
   ],
   "source": [
    "calculate_corr(df)"
   ]
  }
 ],
 "metadata": {
  "kernelspec": {
   "display_name": "Python 3 (ipykernel)",
   "language": "python",
   "name": "python3"
  },
  "language_info": {
   "codemirror_mode": {
    "name": "ipython",
    "version": 3
   },
   "file_extension": ".py",
   "mimetype": "text/x-python",
   "name": "python",
   "nbconvert_exporter": "python",
   "pygments_lexer": "ipython3",
   "version": "3.9.12"
  },
  "toc": {
   "base_numbering": 1,
   "nav_menu": {},
   "number_sections": true,
   "sideBar": true,
   "skip_h1_title": false,
   "title_cell": "Table of Contents",
   "title_sidebar": "Contents",
   "toc_cell": false,
   "toc_position": {},
   "toc_section_display": true,
   "toc_window_display": false
  },
  "varInspector": {
   "cols": {
    "lenName": 16,
    "lenType": 16,
    "lenVar": 40
   },
   "kernels_config": {
    "python": {
     "delete_cmd_postfix": "",
     "delete_cmd_prefix": "del ",
     "library": "var_list.py",
     "varRefreshCmd": "print(var_dic_list())"
    },
    "r": {
     "delete_cmd_postfix": ") ",
     "delete_cmd_prefix": "rm(",
     "library": "var_list.r",
     "varRefreshCmd": "cat(var_dic_list()) "
    }
   },
   "types_to_exclude": [
    "module",
    "function",
    "builtin_function_or_method",
    "instance",
    "_Feature"
   ],
   "window_display": false
  }
 },
 "nbformat": 4,
 "nbformat_minor": 5
}
